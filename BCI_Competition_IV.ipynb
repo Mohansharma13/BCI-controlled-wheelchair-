{
  "cells": [
    {
      "cell_type": "code",
      "execution_count": null,
      "metadata": {
        "colab": {
          "base_uri": "https://localhost:8080/"
        },
        "id": "c3yhzduYwhO1",
        "outputId": "2c722b9f-12e0-48f9-ff0f-dd6381f8d22d"
      },
      "outputs": [
        {
          "name": "stdout",
          "output_type": "stream",
          "text": [
            "Drive already mounted at /content/drive; to attempt to forcibly remount, call drive.mount(\"/content/drive\", force_remount=True).\n"
          ]
        }
      ],
      "source": [
        "from google.colab import drive\n",
        "drive.mount('/content/drive')"
      ]
    },
    {
      "cell_type": "code",
      "execution_count": null,
      "metadata": {
        "id": "jN60gaMBtz-G"
      },
      "outputs": [],
      "source": [
        "%%capture\n",
        "!pip install mne"
      ]
    },
    {
      "cell_type": "code",
      "execution_count": null,
      "metadata": {
        "id": "-d8PErCpv2pM"
      },
      "outputs": [],
      "source": [
        "!cp /content/drive/MyDrive/BCICIV_2a.zip /content"
      ]
    },
    {
      "cell_type": "code",
      "execution_count": null,
      "metadata": {
        "id": "OrvN-SVXv80M"
      },
      "outputs": [],
      "source": [
        "%%capture\n",
        "!unzip /content/BCICIV_2a.zip -d data"
      ]
    },
    {
      "cell_type": "code",
      "execution_count": null,
      "metadata": {
        "id": "Ls1_QPAmusUZ"
      },
      "outputs": [],
      "source": [
        "## analyse the data\n",
        "import mne"
      ]
    },
    {
      "cell_type": "code",
      "execution_count": null,
      "metadata": {
        "colab": {
          "base_uri": "https://localhost:8080/",
          "height": 493
        },
        "id": "rNNd3ANCyKoF",
        "outputId": "d7fd2aeb-5d83-4cd3-edcc-20d52f330716"
      },
      "outputs": [
        {
          "name": "stdout",
          "output_type": "stream",
          "text": [
            "Extracting EDF parameters from /content/data/A04T.gdf...\n",
            "GDF file detected\n",
            "Setting channel info structure...\n",
            "Could not determine channel type of the following channels, they will be set as EEG:\n",
            "EEG-Fz, EEG, EEG, EEG, EEG, EEG, EEG, EEG-C3, EEG, EEG-Cz, EEG, EEG-C4, EEG, EEG, EEG, EEG, EEG, EEG, EEG, EEG-Pz, EEG, EEG\n",
            "Creating raw.info structure...\n"
          ]
        },
        {
          "name": "stderr",
          "output_type": "stream",
          "text": [
            "/usr/local/lib/python3.7/dist-packages/mne/io/edf/edf.py:1131: DeprecationWarning: The binary mode of fromstring is deprecated, as it behaves surprisingly on unicode inputs. Use frombuffer instead\n",
            "  etmode = np.fromstring(etmode, UINT8).tolist()[0]\n",
            "/usr/lib/python3.7/contextlib.py:119: RuntimeWarning: Channel names are not unique, found duplicates for: {'EEG'}. Applying running numbers for duplicates.\n",
            "  next(self.gen)\n"
          ]
        },
        {
          "data": {
            "text/html": [
              "\n",
              "\n",
              "<table class=\"table table-hover table-striped table-sm table-responsive small\">\n",
              "    <tr>\n",
              "        <th>Measurement date</th>\n",
              "        <td>November 08, 2004  12:00:00 GMT</td>\n",
              "        \n",
              "    </tr>\n",
              "    <tr>\n",
              "        <th>Experimenter</th>\n",
              "<td>Unknown</td>\n",
              "    </tr>\n",
              "        <th>Participant</th>\n",
              "<td>Unknown</td>\n",
              "    </tr>\n",
              "    <tr>\n",
              "        <th>Digitized points</th>\n",
              "        <td>Not available</td>\n",
              "    </tr>\n",
              "    <tr>\n",
              "        <th>Good channels</th>\n",
              "        <td>22 EEG</td>\n",
              "    </tr>\n",
              "    <tr>\n",
              "        <th>Bad channels</th>\n",
              "        <td>None</td>\n",
              "    </tr>\n",
              "    <tr>\n",
              "        <th>EOG channels</th>\n",
              "        <td>Not available</td>\n",
              "    </tr>\n",
              "    <tr>\n",
              "        <th>ECG channels</th>\n",
              "        <td>Not available</td>\n",
              "    <tr>\n",
              "        <th>Sampling frequency</th>\n",
              "        <td>250.00 Hz</td>\n",
              "    </tr>\n",
              "    <tr>\n",
              "        <th>Highpass</th>\n",
              "        <td>0.50 Hz</td>\n",
              "    </tr>\n",
              "    <tr>\n",
              "        <th>Lowpass</th>\n",
              "        <td>100.00 Hz</td>\n",
              "    </tr>\n",
              "\n",
              "    <tr>\n",
              "        <th>Filenames</th>\n",
              "        <td>A04T.gdf</td>\n",
              "    </tr>\n",
              "    <tr>\n",
              "        <th>Duration</th>\n",
              "        <td>00:40:03 (HH:MM:SS)</td>\n",
              "    </tr>\n",
              "</table>\n"
            ],
            "text/plain": [
              "<RawGDF | A04T.gdf, 22 x 600915 (2403.7 s), ~26 kB, data not loaded>"
            ]
          },
          "execution_count": 43,
          "metadata": {},
          "output_type": "execute_result"
        }
      ],
      "source": [
        "raw=mne.io.read_raw_gdf('/content/data/A04T.gdf',\n",
        "                         eog=['EOG-left', 'EOG-central', 'EOG-right'])\n",
        "raw.drop_channels(['EOG-left', 'EOG-central', 'EOG-right'])"
      ]
    },
    {
      "cell_type": "code",
      "execution_count": null,
      "metadata": {
        "colab": {
          "base_uri": "https://localhost:8080/"
        },
        "id": "xdN-C7dB2x8q",
        "outputId": "24cc3e07-2d1c-4b7a-b5fd-e4e9fe963df0"
      },
      "outputs": [
        {
          "data": {
            "text/plain": [
              "<Annotations | 610 segments: 1023 (26), 1072 (1), 32766 (7), 768 (288), ...>"
            ]
          },
          "execution_count": 44,
          "metadata": {},
          "output_type": "execute_result"
        }
      ],
      "source": [
        "raw.annotations"
      ]
    },
    {
      "cell_type": "code",
      "execution_count": null,
      "metadata": {
        "colab": {
          "base_uri": "https://localhost:8080/"
        },
        "id": "RXsHptYzyk2a",
        "outputId": "98d94335-355e-4a21-b474-32187f669899"
      },
      "outputs": [
        {
          "name": "stdout",
          "output_type": "stream",
          "text": [
            "Used Annotations descriptions: ['1023', '1072', '32766', '768', '769', '770', '771', '772']\n"
          ]
        },
        {
          "data": {
            "text/plain": [
              "{'1023': 1,\n",
              " '1072': 2,\n",
              " '32766': 3,\n",
              " '768': 4,\n",
              " '769': 5,\n",
              " '770': 6,\n",
              " '771': 7,\n",
              " '772': 8}"
            ]
          },
          "execution_count": 47,
          "metadata": {},
          "output_type": "execute_result"
        }
      ],
      "source": [
        "events=mne.events_from_annotations(raw)\n",
        "events[1]\n"
      ]
    },
    {
      "cell_type": "code",
      "execution_count": null,
      "metadata": {
        "colab": {
          "base_uri": "https://localhost:8080/"
        },
        "id": "dfSilaJjH_yf",
        "outputId": "d1f8203d-0a21-4b36-fbac-bbec2ce0885c"
      },
      "outputs": [
        {
          "data": {
            "text/plain": [
              "{7, 8}"
            ]
          },
          "execution_count": 54,
          "metadata": {},
          "output_type": "execute_result"
        }
      ],
      "source": []
    },
    {
      "cell_type": "code",
      "execution_count": null,
      "metadata": {
        "colab": {
          "base_uri": "https://localhost:8080/"
        },
        "id": "C2SZEZsi-BEq",
        "outputId": "7179bdc2-566c-4fcd-99dd-f27860af1528"
      },
      "outputs": [
        {
          "data": {
            "text/plain": [
              "array([[     0,      0,      5],\n",
              "       [     0,      0,      3],\n",
              "       [ 31513,      0,      5],\n",
              "       [ 31513,      0,      4],\n",
              "       [ 57602,      0,      5],\n",
              "       [ 57602,      0,      2],\n",
              "       [ 96159,      0,      5],\n",
              "       [ 96509,      0,      6],\n",
              "       [ 97009,      0,      7],\n",
              "       [ 98512,      0,      6],\n",
              "       [ 99012,      0,      8],\n",
              "       [100430,      0,      6],\n",
              "       [100930,      0,      8],\n",
              "       [102382,      0,      6],\n",
              "       [102882,      0,      7],\n",
              "       [104390,      0,      6],\n",
              "       [104890,      0,      8],\n",
              "       [106501,      0,      6],\n",
              "       [107001,      0,      7],\n",
              "       [108418,      0,      6]])"
            ]
          },
          "execution_count": 25,
          "metadata": {},
          "output_type": "execute_result"
        }
      ],
      "source": [
        "events[0][0:20]"
      ]
    },
    {
      "cell_type": "markdown",
      "metadata": {
        "id": "R-4fdwhd3kDo"
      },
      "source": [
        "**From the paper**  \n",
        "'1023': 1 (Rejected trial),   \n",
        " '1072': 2 (Eye movements),  \n",
        " '276':  3 (eyes open)),  \n",
        " '277':  4 (eyes closed),   \n",
        " '32766':5 (Start of a new run),  \n",
        " '768':  6 (Start of a trial),  \n",
        " '769': 7 (class 1),  \n",
        " '770': 8 (class 2),  \n",
        " '771': 9 (class 3),  \n",
        " '772': 10 (class 4)\n",
        "\n"
      ]
    },
    {
      "cell_type": "code",
      "execution_count": null,
      "metadata": {
        "id": "iJdndOUb8jif"
      },
      "outputs": [],
      "source": [
        "event_dict={\n",
        " 'reject':1,\n",
        " 'eye move':2,\n",
        " 'eye open':3,\n",
        " 'eye close':4,\n",
        " 'new run':5,\n",
        " 'new trial':6,\n",
        " 'class 1':7,\n",
        " 'class 2':8,\n",
        " 'class 3':9,\n",
        " 'class 4':10,\n",
        "\n",
        "}"
      ]
    },
    {
      "cell_type": "code",
      "execution_count": null,
      "metadata": {
        "colab": {
          "base_uri": "https://localhost:8080/",
          "height": 279
        },
        "id": "-BVqtghx2kC3",
        "outputId": "7106ac1a-3448-488d-e8f3-7ca1d098ab96"
      },
      "outputs": [
        {
          "data": {
            "image/png": "[encoded data removed]",
            "text/plain": [
              "<Figure size 432x288 with 1 Axes>"
            ]
          },
          "metadata": {
            "needs_background": "light"
          },
          "output_type": "display_data"
        }
      ],
      "source": [
        "#https://mne.tools/stable/auto_tutorials/intro/10_overview.html#sphx-glr-auto-tutorials-intro-10-overview-py\n",
        "fig = mne.viz.plot_events(events[0], event_id=event_dict, sfreq=raw.info['sfreq'],\n",
        "                          first_samp=raw.first_samp)"
      ]
    },
    {
      "cell_type": "code",
      "execution_count": null,
      "metadata": {
        "colab": {
          "base_uri": "https://localhost:8080/"
        },
        "id": "Bjsoem5pyOgG",
        "outputId": "3e2c2dba-7cbf-499e-81b3-2c00b1f91931"
      },
      "outputs": [
        {
          "name": "stdout",
          "output_type": "stream",
          "text": [
            "Not setting metadata\n",
            "Not setting metadata\n",
            "288 matching events found\n",
            "Setting baseline interval to [-0.1, 0.0] sec\n",
            "Applying baseline correction (mode: mean)\n",
            "0 projection items activated\n",
            "Loading data for 288 events and 201 original time points ...\n",
            "0 bad epochs dropped\n"
          ]
        }
      ],
      "source": [
        "epochs = mne.Epochs(raw, events[0], event_id=[7,8,9,10],tmin= -0.1, tmax=0.7, preload=True)"
      ]
    },
    {
      "cell_type": "code",
      "execution_count": null,
      "metadata": {
        "colab": {
          "base_uri": "https://localhost:8080/"
        },
        "id": "LkM0TbcPyZSl",
        "outputId": "8161f6c3-c993-4626-d8d9-cac1345d34d5"
      },
      "outputs": [
        {
          "data": {
            "text/plain": [
              "(288, 22, 201)"
            ]
          },
          "execution_count": 36,
          "metadata": {},
          "output_type": "execute_result"
        }
      ],
      "source": [
        "epochs.get_data().shape"
      ]
    },
    {
      "cell_type": "code",
      "execution_count": null,
      "metadata": {
        "colab": {
          "base_uri": "https://localhost:8080/"
        },
        "id": "11DOnRGH1Dre",
        "outputId": "264e0fec-09e7-4aea-aede-7e4952237492"
      },
      "outputs": [
        {
          "data": {
            "text/plain": [
              "288"
            ]
          },
          "execution_count": 37,
          "metadata": {},
          "output_type": "execute_result"
        }
      ],
      "source": [
        "label=epochs.events[:,-1]\n",
        "len(label)"
      ]
    },
    {
      "cell_type": "code",
      "execution_count": null,
      "metadata": {
        "id": "R1Mt5G37BQzD"
      },
      "outputs": [],
      "source": [
        "#epoch vs evoked"
      ]
    },
    {
      "cell_type": "code",
      "execution_count": null,
      "metadata": {
        "id": "TIyO7cFxBXwz"
      },
      "outputs": [],
      "source": [
        "evoked_0 = epochs['7'].average()\n",
        "evoked_1 = epochs['8'].average()\n",
        "evoked_2 = epochs['9'].average()\n",
        "evoked_3 = epochs['10'].average()"
      ]
    },
    {
      "cell_type": "code",
      "execution_count": null,
      "metadata": {
        "colab": {
          "base_uri": "https://localhost:8080/",
          "height": 477
        },
        "id": "8_rt24jrA9zp",
        "outputId": "acb3ad5b-5be1-4a67-a1c6-c0166657f950"
      },
      "outputs": [
        {
          "name": "stdout",
          "output_type": "stream",
          "text": [
            "combining channels using \"gfp\"\n",
            "combining channels using \"gfp\"\n",
            "combining channels using \"gfp\"\n",
            "combining channels using \"gfp\"\n"
          ]
        },
        {
          "data": {
            "image/png": "[encoded data removed]",
            "text/plain": [
              "<Figure size 576x432 with 1 Axes>"
            ]
          },
          "metadata": {
            "needs_background": "light"
          },
          "output_type": "display_data"
        },
        {
          "data": {
            "text/plain": [
              "[<Figure size 576x432 with 1 Axes>]"
            ]
          },
          "execution_count": 40,
          "metadata": {},
          "output_type": "execute_result"
        }
      ],
      "source": [
        "#left,right,foot,tongue\n",
        "dicts={'class0':evoked_0,'class1':evoked_1,'class2':evoked_2,'class3':evoked_3}\n",
        "mne.viz.plot_compare_evokeds(dicts)"
      ]
    },
    {
      "cell_type": "markdown",
      "metadata": {
        "id": "BdNn27SWEs5p"
      },
      "source": [
        "# let create a function"
      ]
    },
    {
      "cell_type": "code",
      "execution_count": null,
      "metadata": {
        "id": "TitH-M4tCYx9"
      },
      "outputs": [],
      "source": [
        "def read_data(path):\n",
        "  raw=mne.io.read_raw_gdf(path,preload=True,\n",
        "                          eog=['EOG-left', 'EOG-central', 'EOG-right'])\n",
        "  raw.drop_channels(['EOG-left', 'EOG-central', 'EOG-right'])\n",
        "  raw.set_eeg_reference()\n",
        "  events=mne.events_from_annotations(raw)\n",
        "  epochs = mne.Epochs(raw, events[0], event_id=[7,8,9,10],on_missing ='warn')\n",
        "  labels=epochs.events[:,-1]\n",
        "  features=epochs.get_data()\n",
        "  return features,labels\n",
        "\n"
      ]
    },
    {
      "cell_type": "code",
      "execution_count": null,
      "metadata": {
        "id": "xW0kIs4CEqlx"
      },
      "outputs": [],
      "source": [
        "%%capture\n",
        "features,labels,groups=[],[],[]\n",
        "for i in range(1,10):\n",
        "  feature,label=read_data(f'/content/data/A0{i}T.gdf')\n",
        "  features.append(feature)\n",
        "  labels.append(label)\n",
        "  groups.append([i]*len(label))\n"
      ]
    },
    {
      "cell_type": "code",
      "execution_count": null,
      "metadata": {
        "colab": {
          "base_uri": "https://localhost:8080/"
        },
        "id": "lVYPtkG9JW0V",
        "outputId": "4b94fbd7-7331-49c9-b9e9-f027dc3390d8"
      },
      "outputs": [
        {
          "data": {
            "text/plain": [
              "((2448, 22, 176), (2448,), (2448,))"
            ]
          },
          "execution_count": 100,
          "metadata": {},
          "output_type": "execute_result"
        }
      ],
      "source": [
        "features=np.concatenate(features)\n",
        "labels=np.concatenate(labels)\n",
        "groups=np.concatenate(groups)\n",
        "\n",
        "features.shape,labels.shape,groups.shape"
      ]
    },
    {
      "cell_type": "code",
      "execution_count": null,
      "metadata": {
        "colab": {
          "base_uri": "https://localhost:8080/"
        },
        "id": "EnL1jucZLcIe",
        "outputId": "2a6704e0-5af3-48d6-8f14-b37da51effed"
      },
      "outputs": [
        {
          "data": {
            "text/plain": [
              "0"
            ]
          },
          "execution_count": 101,
          "metadata": {},
          "output_type": "execute_result"
        }
      ],
      "source": [
        "np.isnan(features).sum()\n"
      ]
    },
    {
      "cell_type": "code",
      "execution_count": null,
      "metadata": {
        "colab": {
          "base_uri": "https://localhost:8080/"
        },
        "id": "441MvNvQLP0w",
        "outputId": "873eff07-42cb-4e99-e3a6-46364c2c7fc5"
      },
      "outputs": [
        {
          "data": {
            "text/plain": [
              "(array([ 7,  8,  9, 10]), array([648, 648, 576, 576]))"
            ]
          },
          "execution_count": 102,
          "metadata": {},
          "output_type": "execute_result"
        }
      ],
      "source": [
        "unique, counts = np.unique(labels, return_counts=True)\n",
        "unique, counts"
      ]
    },
    {
      "cell_type": "code",
      "execution_count": null,
      "metadata": {
        "colab": {
          "base_uri": "https://localhost:8080/"
        },
        "id": "6CXhty7XLz3P",
        "outputId": "89d63f5d-50ad-4c51-a592-e7c006f0c898"
      },
      "outputs": [
        {
          "data": {
            "text/plain": [
              "(array([1, 2, 3, 4, 5, 6, 7, 8, 9]),\n",
              " array([288, 288, 288, 144, 288, 288, 288, 288, 288]))"
            ]
          },
          "execution_count": 103,
          "metadata": {},
          "output_type": "execute_result"
        }
      ],
      "source": [
        "unique, counts = np.unique(groups, return_counts=True)\n",
        "unique, counts"
      ]
    },
    {
      "cell_type": "code",
      "execution_count": null,
      "metadata": {
        "id": "p43iCegAP_ea"
      },
      "outputs": [],
      "source": [
        "np.savez(\"eeg_22_channel_data\",input=features,targets=labels)"
      ]
    },
    {
      "cell_type": "code",
      "execution_count": null,
      "metadata": {},
      "outputs": [],
      "source": []
    }
  ],
  "metadata": {
    "colab": {
      "collapsed_sections": [],
      "name": "BCI Competition 2008 – Graz data set A.ipynb",
      "provenance": []
    },
    "kernelspec": {
      "display_name": "Python 3",
      "name": "python3"
    },
    "language_info": {
      "name": "python"
    }
  },
  "nbformat": 4,
  "nbformat_minor": 0
}
