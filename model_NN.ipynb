{
 "cells": [
  {
   "cell_type": "code",
   "execution_count": 90,
   "metadata": {},
   "outputs": [],
   "source": [
    "import pandas as pd \n",
    "import numpy as np \n",
    "import tensorflow as tf \n",
    "from scipy import stats"
   ]
  },
  {
   "cell_type": "code",
   "execution_count": 91,
   "metadata": {},
   "outputs": [
    {
     "data": {
      "text/plain": [
       "array([0, 1, 2, 3])"
      ]
     },
     "execution_count": 91,
     "metadata": {},
     "output_type": "execute_result"
    }
   ],
   "source": [
    "data=np.load(\"eeg_22_channel_data.npz\")\n",
    "\n",
    "input=data[\"input\"].astype(np.float64)\n",
    "targets=data[\"targets\"].astype(np.int32)\n",
    "\n",
    "for i in range(targets.shape[0]):\n",
    "    targets[i]=targets[i]-7\n",
    "\n",
    "np.unique(targets)"
   ]
  },
  {
   "cell_type": "code",
   "execution_count": 92,
   "metadata": {},
   "outputs": [],
   "source": [
    "# feature extraction from eeg data\n",
    "def mean(x):\n",
    "    return(np.mean(x,axis=-1))\n",
    "\n",
    "def std(x):\n",
    "    return(np.std(x,axis=-1))\n",
    "\n",
    "def ptp(x):\n",
    "    return(np.ptp(x,axis=-1))\n",
    "\n",
    "def vari(x):\n",
    "    return(np.var(x,axis=-1))\n",
    "\n",
    "def minim(x):\n",
    "    return(np.min(x,axis=-1))\n",
    "\n",
    "def maxi(x):\n",
    "    return(np.max(x,axis=-1))\n",
    "\n",
    "def argmaxim(x):  ##pos of max\n",
    "    return(np.argmax(x,axis=-1))\n",
    "\n",
    "def argmini(x):\n",
    "    return(np.argmin(x,axis=-1))\n",
    "\n",
    "def rms(x):\n",
    "    return(np.sqrt(np.mean(x**2,axis=-1)))\n",
    "\n",
    "def mean(x):\n",
    "    return(np.mean(x,axis=-1))\n",
    "\n",
    "def abs_diff_signal(x):\n",
    "    return(np.sum(np.abs(np.diff(x,axis=-1)),axis=-1))\n",
    "\n",
    "def kurtosis(x):\n",
    "    return(stats.kurtosis(x,axis=-1))\n",
    "\n",
    "def skewness(x):\n",
    "    return(stats.skew(x,axis=-1))"
   ]
  },
  {
   "cell_type": "code",
   "execution_count": 93,
   "metadata": {},
   "outputs": [],
   "source": [
    "def concatenate_features(x):\n",
    "    return(np.concatenate((mean(x),std(x),ptp(x),vari(x),minim(x),maxi(x),argmaxim(x) ,\n",
    "                           argmini(x),rms(x), mean(x),abs_diff_signal(x),kurtosis(x),skewness(x)),axis=1))"
   ]
  },
  {
   "cell_type": "code",
   "execution_count": 94,
   "metadata": {},
   "outputs": [
    {
     "data": {
      "text/plain": [
       "((2448, 286), (2448,))"
      ]
     },
     "execution_count": 94,
     "metadata": {},
     "output_type": "execute_result"
    }
   ],
   "source": [
    "input_features=concatenate_features(input)\n",
    "input_features.shape,targets.shape"
   ]
  },
  {
   "cell_type": "code",
   "execution_count": 95,
   "metadata": {},
   "outputs": [],
   "source": [
    "# int(input_features.shape[0]*0.8),int(targets.shape[0]*0.8)"
   ]
  },
  {
   "cell_type": "code",
   "execution_count": 96,
   "metadata": {},
   "outputs": [
    {
     "name": "stdout",
     "output_type": "stream",
     "text": [
      "(1958, 286)\n",
      "(1958,)\n",
      "(196, 286)\n",
      "(196,)\n"
     ]
    },
    {
     "data": {
      "text/plain": [
       "((196,), (196, 286))"
      ]
     },
     "execution_count": 96,
     "metadata": {},
     "output_type": "execute_result"
    }
   ],
   "source": [
    "input_features=input_features[:int(input_features.shape[0]*0.8)]\n",
    "input_targets=targets[:int(targets.shape[0]*0.8)]\n",
    "\n",
    "print(input_features.shape)\n",
    "print(input_targets.shape)\n",
    "\n",
    "\n",
    "validation_input=input_features[int(input_features.shape[0]*0.8):int(input_features.shape[0]*0.9)]\n",
    "validation_targets=targets[int(input_features.shape[0]*0.8):int(input_features.shape[0]*0.9)]\n",
    "\n",
    "print(validation_input.shape)\n",
    "print(validation_targets.shape)\n",
    "\n",
    "test_feature=input_features[int(input_features.shape[0]*0.9):]\n",
    "test_targets=targets[int(input_features.shape[0]*0.9):int(input_features.shape[0])]\n",
    "\n",
    "test_targets.shape , test_feature.shape"
   ]
  },
  {
   "cell_type": "code",
   "execution_count": 97,
   "metadata": {},
   "outputs": [],
   "source": [
    "input_size=1958*286\n",
    "output_size=4\n",
    "hidden_layer_size=50\n",
    "\n",
    "model=tf.keras.Sequential([\n",
    "                            tf.keras.layers.Dense(hidden_layer_size,activation=\"relu\"),\n",
    "                            tf.keras.layers.Dense(hidden_layer_size,activation=\"relu\"),\n",
    "                            tf.keras.layers.Dense(hidden_layer_size,activation=\"relu\"),\n",
    "                            tf.keras.layers.Dense(hidden_layer_size,activation=\"relu\"),\n",
    "                            tf.keras.layers.Dense(output_size,activation=\"softmax\")\n",
    "])\n"
   ]
  },
  {
   "cell_type": "code",
   "execution_count": 99,
   "metadata": {},
   "outputs": [
    {
     "data": {
      "text/plain": [
       "(1958, 286)"
      ]
     },
     "execution_count": 99,
     "metadata": {},
     "output_type": "execute_result"
    }
   ],
   "source": [
    "model.compile(optimizer=\"adam\",loss=\"sparse_categorical_crossentropy\",metrics=[\"accuracy\"])\n",
    "\n",
    "input_features.shape"
   ]
  },
  {
   "cell_type": "code",
   "execution_count": 103,
   "metadata": {},
   "outputs": [
    {
     "name": "stdout",
     "output_type": "stream",
     "text": [
      "Epoch 1/100\n",
      "20/20 - 0s - loss: 0.8385 - accuracy: 0.6691 - val_loss: 0.8004 - val_accuracy: 0.6990 - 193ms/epoch - 10ms/step\n",
      "Epoch 2/100\n",
      "20/20 - 0s - loss: 0.8431 - accuracy: 0.6553 - val_loss: 0.7774 - val_accuracy: 0.7041 - 112ms/epoch - 6ms/step\n",
      "Epoch 3/100\n",
      "20/20 - 0s - loss: 0.8156 - accuracy: 0.6726 - val_loss: 0.7782 - val_accuracy: 0.6837 - 103ms/epoch - 5ms/step\n",
      "Epoch 4/100\n",
      "20/20 - 0s - loss: 0.8467 - accuracy: 0.6496 - val_loss: 0.7676 - val_accuracy: 0.6939 - 88ms/epoch - 4ms/step\n",
      "Epoch 5/100\n",
      "20/20 - 0s - loss: 0.8254 - accuracy: 0.6573 - val_loss: 0.7531 - val_accuracy: 0.7296 - 99ms/epoch - 5ms/step\n",
      "Epoch 6/100\n",
      "20/20 - 0s - loss: 0.7814 - accuracy: 0.6834 - val_loss: 0.7673 - val_accuracy: 0.7092 - 87ms/epoch - 4ms/step\n",
      "Epoch 7/100\n",
      "20/20 - 0s - loss: 0.7543 - accuracy: 0.6997 - val_loss: 0.7140 - val_accuracy: 0.7398 - 85ms/epoch - 4ms/step\n",
      "Epoch 8/100\n",
      "20/20 - 0s - loss: 0.7717 - accuracy: 0.6936 - val_loss: 0.8695 - val_accuracy: 0.6531 - 87ms/epoch - 4ms/step\n",
      "Epoch 9/100\n",
      "20/20 - 0s - loss: 0.8179 - accuracy: 0.6578 - val_loss: 0.7705 - val_accuracy: 0.7143 - 97ms/epoch - 5ms/step\n",
      "Epoch 10/100\n",
      "20/20 - 0s - loss: 0.7860 - accuracy: 0.6869 - val_loss: 0.7476 - val_accuracy: 0.7245 - 84ms/epoch - 4ms/step\n"
     ]
    },
    {
     "data": {
      "text/plain": [
       "<keras.callbacks.History at 0x1c806c53730>"
      ]
     },
     "execution_count": 103,
     "metadata": {},
     "output_type": "execute_result"
    }
   ],
   "source": [
    "num_epoch=100\n",
    "\n",
    "model.fit(input_features,input_targets,\n",
    "          batch_size=100,\n",
    "          epochs=num_epoch,\n",
    "          validation_data=(validation_input,validation_targets),verbose=2,\n",
    "          callbacks=[tf.keras.callbacks.EarlyStopping(monitor='val_loss',patience=3,restore_best_weights=True)]\n",
    "          \n",
    "          )\n"
   ]
  },
  {
   "cell_type": "code",
   "execution_count": 104,
   "metadata": {},
   "outputs": [
    {
     "name": "stdout",
     "output_type": "stream",
     "text": [
      "7/7 [==============================] - 0s 2ms/step - loss: 0.6142 - accuracy: 0.7959\n"
     ]
    },
    {
     "data": {
      "text/plain": [
       "[0.6141600608825684, 0.795918345451355]"
      ]
     },
     "execution_count": 104,
     "metadata": {},
     "output_type": "execute_result"
    }
   ],
   "source": [
    "model.evaluate(test_feature,test_targets)"
   ]
  },
  {
   "cell_type": "code",
   "execution_count": null,
   "metadata": {},
   "outputs": [],
   "source": []
  },
  {
   "cell_type": "code",
   "execution_count": null,
   "metadata": {},
   "outputs": [],
   "source": []
  }
 ],
 "metadata": {
  "kernelspec": {
   "display_name": "env_tf",
   "language": "python",
   "name": "python3"
  },
  "language_info": {
   "codemirror_mode": {
    "name": "ipython",
    "version": 3
   },
   "file_extension": ".py",
   "mimetype": "text/x-python",
   "name": "python",
   "nbconvert_exporter": "python",
   "pygments_lexer": "ipython3",
   "version": "3.10.13"
  }
 },
 "nbformat": 4,
 "nbformat_minor": 2
}
