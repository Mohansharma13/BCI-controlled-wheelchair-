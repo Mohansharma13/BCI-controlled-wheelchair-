EEG DATA PREPROCESSING
### I have taken the data from BCI competeation 2008\n

### Data set 2a about eeg data collection https://bbci.de/competition/iv/desc_2a.pdf
### Data set 2b about eeg data collection https://bbci.de/competition/iv/desc_2b.pdf
### for data preprocessing follow artical on https://learn.neurotechedu.com/preprocessing/

