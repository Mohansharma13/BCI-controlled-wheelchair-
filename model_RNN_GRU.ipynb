{
 "cells": [
  {
   "cell_type": "code",
   "execution_count": 67,
   "metadata": {},
   "outputs": [],
   "source": [
    "import numpy as np \n",
    "import tensorflow as tf\n",
    "from scipy import stats\n",
    "import matplotlib.pyplot as plt \n",
    "from sklearn.metrics import confusion_matrix, classification_report\n",
    "import seaborn as sns"
   ]
  },
  {
   "cell_type": "code",
   "execution_count": 68,
   "metadata": {},
   "outputs": [
    {
     "data": {
      "text/plain": [
       "array([0, 1, 2, 3])"
      ]
     },
     "execution_count": 68,
     "metadata": {},
     "output_type": "execute_result"
    }
   ],
   "source": [
    "data=np.load(\"eeg_22_channel_data.npz\")\n",
    "\n",
    "input=data[\"input\"].astype(np.float64)\n",
    "targets=data[\"targets\"].astype(np.int32)\n",
    "\n",
    "for i in range(targets.shape[0]):\n",
    "    targets[i]=targets[i]-7\n",
    "\n",
    "np.unique(targets)"
   ]
  },
  {
   "cell_type": "code",
   "execution_count": 69,
   "metadata": {},
   "outputs": [],
   "source": [
    "# feature extraction from eeg data\n",
    "def mean(x):\n",
    "    return(np.mean(x,axis=-1))\n",
    "\n",
    "def std(x):\n",
    "    return(np.std(x,axis=-1))\n",
    "\n",
    "def ptp(x):\n",
    "    return(np.ptp(x,axis=-1))\n",
    "\n",
    "def vari(x):\n",
    "    return(np.var(x,axis=-1))\n",
    "\n",
    "def minim(x):\n",
    "    return(np.min(x,axis=-1))\n",
    "\n",
    "def maxi(x):\n",
    "    return(np.max(x,axis=-1))\n",
    "\n",
    "def argmaxim(x):  ##pos of max\n",
    "    return(np.argmax(x,axis=-1))\n",
    "\n",
    "def argmini(x):\n",
    "    return(np.argmin(x,axis=-1))\n",
    "\n",
    "def rms(x):\n",
    "    return(np.sqrt(np.mean(x**2,axis=-1)))\n",
    "\n",
    "def mean(x):\n",
    "    return(np.mean(x,axis=-1))\n",
    "\n",
    "def abs_diff_signal(x):\n",
    "    return(np.sum(np.abs(np.diff(x,axis=-1)),axis=-1))\n",
    "\n",
    "def kurtosis(x):\n",
    "    return(stats.kurtosis(x,axis=-1))\n",
    "\n",
    "def skewness(x):\n",
    "    return(stats.skew(x,axis=-1))\n",
    "\n",
    "\n",
    "def concatenate_features(x):\n",
    "    return(np.concatenate((mean(x),std(x),ptp(x),vari(x),minim(x),maxi(x),argmaxim(x) ,\n",
    "                           argmini(x),rms(x), mean(x),abs_diff_signal(x),kurtosis(x),skewness(x)),axis=1))\n",
    "    \n",
    "input_features=concatenate_features(input)"
   ]
  },
  {
   "cell_type": "code",
   "execution_count": 70,
   "metadata": {},
   "outputs": [],
   "source": [
    "shuffled=np.arange(input_features.shape[0])\n",
    "np.random.shuffle(shuffled)\n",
    "\n",
    "targets=targets[shuffled]\n",
    "input_features=input_features[shuffled]\n"
   ]
  },
  {
   "cell_type": "code",
   "execution_count": 71,
   "metadata": {},
   "outputs": [
    {
     "name": "stdout",
     "output_type": "stream",
     "text": [
      "(1958, 286)\n",
      "(1958,)\n",
      "(245, 286)\n",
      "(245,)\n"
     ]
    },
    {
     "data": {
      "text/plain": [
       "((245,), (245, 286))"
      ]
     },
     "execution_count": 71,
     "metadata": {},
     "output_type": "execute_result"
    }
   ],
   "source": [
    "input_featuresss=input_features[:int(input_features.shape[0]*0.8)]\n",
    "input_targetsss=targets[:int(targets.shape[0]*0.8)]\n",
    "\n",
    "print(input_featuresss.shape)\n",
    "print(input_targetsss.shape)\n",
    "\n",
    "\n",
    "validation_input=input_features[int(input_features.shape[0]*0.8):int(input_features.shape[0]*0.9)]\n",
    "validation_targets=targets[int(input_features.shape[0]*0.8):int(input_features.shape[0]*0.9)]\n",
    "\n",
    "print(validation_input.shape)\n",
    "print(validation_targets.shape)\n",
    "\n",
    "test_feature=input_features[int(input_features.shape[0]*0.9):]\n",
    "test_targets=targets[int(input_features.shape[0]*0.9):int(input_features.shape[0])]\n",
    "\n",
    "test_targets.shape , test_feature.shape"
   ]
  },
  {
   "cell_type": "code",
   "execution_count": 72,
   "metadata": {},
   "outputs": [
    {
     "name": "stdout",
     "output_type": "stream",
     "text": [
      "Model: \"model_3\"\n",
      "_________________________________________________________________\n",
      " Layer (type)                Output Shape              Param #   \n",
      "=================================================================\n",
      " input_4 (InputLayer)        [(None, 286)]             0         \n",
      "                                                                 \n",
      " tf.expand_dims_3 (TFOpLambd  (None, 286, 1)           0         \n",
      " a)                                                              \n",
      "                                                                 \n",
      " lstm_1 (LSTM)               (None, 286, 256)          264192    \n",
      "                                                                 \n",
      " flatten_3 (Flatten)         (None, 73216)             0         \n",
      "                                                                 \n",
      " dense_3 (Dense)             (None, 50)                3660850   \n",
      "                                                                 \n",
      " dense_4 (Dense)             (None, 4)                 204       \n",
      "                                                                 \n",
      "=================================================================\n",
      "Total params: 3,925,246\n",
      "Trainable params: 3,925,246\n",
      "Non-trainable params: 0\n",
      "_________________________________________________________________\n",
      "None\n"
     ]
    }
   ],
   "source": [
    "inputs = tf.keras.Input(shape=(input_featuresss.shape[1],))\n",
    "\n",
    "expand_dims = tf.expand_dims(inputs, axis=2)\n",
    "\n",
    "lstm = tf.keras.layers.LSTM(256, return_sequences=True)(expand_dims)\n",
    "\n",
    "flatten = tf.keras.layers.Flatten()(lstm)\n",
    "\n",
    "fc1=tf.keras.layers.Dense(50,activation=\"relu\")(flatten)\n",
    "\n",
    "outputs = tf.keras.layers.Dense(4, activation='softmax')(fc1)\n",
    "\n",
    "model = tf.keras.Model(inputs=inputs, outputs=outputs)\n",
    "print(model.summary())\n"
   ]
  },
  {
   "cell_type": "code",
   "execution_count": 73,
   "metadata": {},
   "outputs": [
    {
     "name": "stdout",
     "output_type": "stream",
     "text": [
      "Epoch 1/22\n",
      "62/62 - 6s - loss: 1.6336 - accuracy: 0.2620 - val_loss: 1.3865 - val_accuracy: 0.2367 - 6s/epoch - 104ms/step\n",
      "Epoch 2/22\n",
      "62/62 - 4s - loss: 1.3840 - accuracy: 0.2952 - val_loss: 1.3757 - val_accuracy: 0.2980 - 4s/epoch - 70ms/step\n",
      "Epoch 3/22\n",
      "62/62 - 4s - loss: 1.3757 - accuracy: 0.3115 - val_loss: 1.3687 - val_accuracy: 0.2898 - 4s/epoch - 68ms/step\n",
      "Epoch 4/22\n",
      "62/62 - 4s - loss: 1.3469 - accuracy: 0.3386 - val_loss: 1.3937 - val_accuracy: 0.2939 - 4s/epoch - 60ms/step\n",
      "Epoch 5/22\n",
      "62/62 - 4s - loss: 1.3267 - accuracy: 0.3621 - val_loss: 1.4091 - val_accuracy: 0.2571 - 4s/epoch - 61ms/step\n",
      "Epoch 6/22\n",
      "62/62 - 4s - loss: 1.3148 - accuracy: 0.3866 - val_loss: 1.3895 - val_accuracy: 0.2776 - 4s/epoch - 68ms/step\n",
      "Epoch 7/22\n",
      "62/62 - 4s - loss: 1.3032 - accuracy: 0.3856 - val_loss: 1.3866 - val_accuracy: 0.2939 - 4s/epoch - 64ms/step\n",
      "Epoch 8/22\n",
      "62/62 - 4s - loss: 1.2875 - accuracy: 0.4116 - val_loss: 1.3929 - val_accuracy: 0.2449 - 4s/epoch - 63ms/step\n"
     ]
    }
   ],
   "source": [
    "model.compile(\n",
    "    optimizer=\"adam\",\n",
    "    loss='sparse_categorical_crossentropy',\n",
    "    metrics=['accuracy']\n",
    ")\n",
    "\n",
    "history = model.fit(\n",
    "    input_featuresss,\n",
    "    input_targetsss,\n",
    "    validation_data=(validation_input,validation_targets),\n",
    "    batch_size=32,\n",
    "    epochs=22,\n",
    "    callbacks=[\n",
    "        tf.keras.callbacks.EarlyStopping(\n",
    "            monitor='val_loss',\n",
    "            patience=5,\n",
    "            restore_best_weights=True\n",
    "        )\n",
    "    ],\n",
    "    verbose=2\n",
    ")"
   ]
  },
  {
   "cell_type": "code",
   "execution_count": 74,
   "metadata": {},
   "outputs": [
    {
     "name": "stdout",
     "output_type": "stream",
     "text": [
      "8/8 [==============================] - 0s 28ms/step - loss: 1.3803 - accuracy: 0.3143\n",
      "8/8 [==============================] - 1s 24ms/step\n"
     ]
    }
   ],
   "source": [
    "model.evaluate(test_feature,test_targets)\n",
    "predicted=model.predict(test_feature)"
   ]
  },
  {
   "cell_type": "code",
   "execution_count": 75,
   "metadata": {},
   "outputs": [
    {
     "name": "stdout",
     "output_type": "stream",
     "text": [
      "8/8 [==============================] - 0s 20ms/step\n"
     ]
    },
    {
     "name": "stderr",
     "output_type": "stream",
     "text": [
      "c:\\Users\\mshar\\.conda\\envs\\gpupy310\\lib\\site-packages\\sklearn\\metrics\\_classification.py:1469: UndefinedMetricWarning: Precision and F-score are ill-defined and being set to 0.0 in labels with no predicted samples. Use `zero_division` parameter to control this behavior.\n",
      "  _warn_prf(average, modifier, msg_start, len(result))\n",
      "c:\\Users\\mshar\\.conda\\envs\\gpupy310\\lib\\site-packages\\sklearn\\metrics\\_classification.py:1469: UndefinedMetricWarning: Precision and F-score are ill-defined and being set to 0.0 in labels with no predicted samples. Use `zero_division` parameter to control this behavior.\n",
      "  _warn_prf(average, modifier, msg_start, len(result))\n",
      "c:\\Users\\mshar\\.conda\\envs\\gpupy310\\lib\\site-packages\\sklearn\\metrics\\_classification.py:1469: UndefinedMetricWarning: Precision and F-score are ill-defined and being set to 0.0 in labels with no predicted samples. Use `zero_division` parameter to control this behavior.\n",
      "  _warn_prf(average, modifier, msg_start, len(result))\n"
     ]
    },
    {
     "data": {
      "image/png": "[encoded data removed]",
      "text/plain": [
       "<Figure size 800x800 with 1 Axes>"
      ]
     },
     "metadata": {},
     "output_type": "display_data"
    },
    {
     "name": "stdout",
     "output_type": "stream",
     "text": [
      "Classification Report:\n",
      "----------------------\n",
      "                    precision    recall  f1-score   support\n",
      "\n",
      "   Cue onset left       0.40      0.55      0.47        73\n",
      "  Cue onset right       0.37      0.29      0.32        66\n",
      "   Cue onset foot       0.19      0.33      0.24        54\n",
      "Cue onset tongue        0.00      0.00      0.00        52\n",
      "\n",
      "         accuracy                           0.31       245\n",
      "        macro avg       0.24      0.29      0.26       245\n",
      "     weighted avg       0.26      0.31      0.28       245\n",
      "\n"
     ]
    }
   ],
   "source": [
    "label_mapping = {'Cue onset left': 0, 'Cue onset right': 1, 'Cue onset foot': 2,\"Cue onset tongue \":3}\n",
    "# 769     0x0301  Cue onset left (class 1)      7\n",
    "# 770     0x0302  Cue onset right (class 2)     8\n",
    "# 771     0x0303  Cue onset foot (class 3)      9\n",
    "# 772     0x0304  Cue onset tongue (class 4)    10\n",
    "\n",
    "y_pred = np.array(list(map(lambda x: np.argmax(x), model.predict(test_feature))))\n",
    "\n",
    "cm = confusion_matrix(test_targets, y_pred)\n",
    "clr = classification_report(test_targets, y_pred, target_names=label_mapping.keys())\n",
    "\n",
    "plt.figure(figsize=(8, 8))\n",
    "sns.heatmap(cm, annot=True, vmin=0, fmt='g', cbar=False, cmap='Blues')\n",
    "plt.xticks(np.arange(4) + 0.5, label_mapping.keys())\n",
    "plt.yticks(np.arange(4) + 0.5, label_mapping.keys())\n",
    "\n",
    "\n",
    "plt.xlabel(\"Predicted\")\n",
    "plt.ylabel(\"Actual\")\n",
    "plt.title(\"Confusion Matrix\")\n",
    "plt.show()\n",
    "\n",
    "print(\"Classification Report:\\n----------------------\\n\", clr)"
   ]
  },
  {
   "cell_type": "code",
   "execution_count": 76,
   "metadata": {},
   "outputs": [],
   "source": [
    "# ### confusion matrix\n",
    "# def confusion_matrixs(data,actual_value,model):\n",
    "#     pre_values=model.predict(data)\n",
    "#     binss=np.array([0,0.25,0.5,1])\n",
    "#     cm=np.histogram(actual_value,pre_values,bins=binss)[0]\n",
    "#     accuracy=(cm[0,0]+cm[2,2])/cm.sum()\n",
    "#     return(cm,accuracy)\n"
   ]
  },
  {
   "cell_type": "code",
   "execution_count": 77,
   "metadata": {},
   "outputs": [],
   "source": [
    "# confusion_matrixs(test_feature,test_targets,model=model)"
   ]
  },
  {
   "cell_type": "code",
   "execution_count": 78,
   "metadata": {},
   "outputs": [],
   "source": [
    "# model.predict(test_feature)"
   ]
  },
  {
   "cell_type": "code",
   "execution_count": 79,
   "metadata": {},
   "outputs": [],
   "source": [
    "# test_targets"
   ]
  },
  {
   "cell_type": "code",
   "execution_count": 80,
   "metadata": {},
   "outputs": [
    {
     "name": "stdout",
     "output_type": "stream",
     "text": [
      "1/1 [==============================] - 0s 43ms/step\n"
     ]
    },
    {
     "data": {
      "text/plain": [
       "0.30742985"
      ]
     },
     "execution_count": 80,
     "metadata": {},
     "output_type": "execute_result"
    }
   ],
   "source": [
    "small_input=test_feature[:15]\n",
    "small_targets=test_targets[:15]\n",
    "\n",
    "table=model.predict(small_input)\n",
    "# retuen probablity\n",
    "max(table[0])\n"
   ]
  },
  {
   "cell_type": "code",
   "execution_count": 81,
   "metadata": {},
   "outputs": [
    {
     "name": "stdout",
     "output_type": "stream",
     "text": [
      "8/8 [==============================] - 0s 20ms/step\n"
     ]
    }
   ],
   "source": [
    "predicted_targets=[]\n",
    "\n",
    "predicted_targets_probablity=model.predict(test_feature)\n",
    "for i in range(predicted_targets_probablity.shape[0]):\n",
    "    p_max=max(predicted_targets_probablity[i])\n",
    "    for j in range(predicted_targets_probablity[i].shape[0]):\n",
    "        if p_max==predicted_targets_probablity[i][j]:\n",
    "            predicted_targets.append(j)"
   ]
  },
  {
   "cell_type": "code",
   "execution_count": 82,
   "metadata": {},
   "outputs": [],
   "source": [
    "# 769     0x0301  Cue onset left (class 1)      7\n",
    "# 770     0x0302  Cue onset right (class 2)     8\n",
    "# 771     0x0303  Cue onset foot (class 3)      9\n",
    "# 772     0x0304  Cue onset tongue (class 4)    10\n",
    "\n",
    "\n",
    "#define confusion_matrix\n",
    "predicted_0_cue__onset_left=predicted_targets.count(0)\n",
    "predicted_1_cue__onset_right=predicted_targets.count(1)\n",
    "predicted_2_cue__onset_left=predicted_targets.count(2)\n",
    "predicted_3_cue__onset_left=predicted_targets.count(3)"
   ]
  },
  {
   "cell_type": "code",
   "execution_count": 83,
   "metadata": {},
   "outputs": [],
   "source": [
    "list_targets = []\n",
    "for item in test_targets:\n",
    "    list_targets.append(item)"
   ]
  },
  {
   "cell_type": "code",
   "execution_count": 84,
   "metadata": {},
   "outputs": [],
   "source": [
    "actual_0_cue__onset_left=list_targets.count(0)\n",
    "actual_1_cue__onset_right=list_targets.count(1)\n",
    "actual_2_cue__onset_left=list_targets.count(2)\n",
    "actual_3_cue__onset_left=list_targets.count(3)"
   ]
  },
  {
   "cell_type": "code",
   "execution_count": 85,
   "metadata": {},
   "outputs": [
    {
     "data": {
      "text/plain": [
       "(73, 99)"
      ]
     },
     "execution_count": 85,
     "metadata": {},
     "output_type": "execute_result"
    }
   ],
   "source": [
    "actual_0_cue__onset_left,predicted_0_cue__onset_left"
   ]
  },
  {
   "cell_type": "code",
   "execution_count": 86,
   "metadata": {},
   "outputs": [
    {
     "data": {
      "text/plain": [
       "(66, 52)"
      ]
     },
     "execution_count": 86,
     "metadata": {},
     "output_type": "execute_result"
    }
   ],
   "source": [
    "actual_1_cue__onset_right,predicted_1_cue__onset_right"
   ]
  },
  {
   "cell_type": "code",
   "execution_count": 87,
   "metadata": {},
   "outputs": [
    {
     "data": {
      "text/plain": [
       "(54, 94)"
      ]
     },
     "execution_count": 87,
     "metadata": {},
     "output_type": "execute_result"
    }
   ],
   "source": [
    "actual_2_cue__onset_left,predicted_2_cue__onset_left"
   ]
  },
  {
   "cell_type": "code",
   "execution_count": 88,
   "metadata": {},
   "outputs": [
    {
     "data": {
      "text/plain": [
       "(52, 0)"
      ]
     },
     "execution_count": 88,
     "metadata": {},
     "output_type": "execute_result"
    }
   ],
   "source": [
    "actual_3_cue__onset_left,predicted_3_cue__onset_left"
   ]
  },
  {
   "cell_type": "code",
   "execution_count": null,
   "metadata": {},
   "outputs": [],
   "source": []
  }
 ],
 "metadata": {
  "kernelspec": {
   "display_name": "tf",
   "language": "python",
   "name": "python3"
  },
  "language_info": {
   "codemirror_mode": {
    "name": "ipython",
    "version": 3
   },
   "file_extension": ".py",
   "mimetype": "text/x-python",
   "name": "python",
   "nbconvert_exporter": "python",
   "pygments_lexer": "ipython3",
   "version": "3.10.13"
  }
 },
 "nbformat": 4,
 "nbformat_minor": 2
}
